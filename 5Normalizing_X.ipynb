{
 "cells": [
  {
   "cell_type": "markdown",
   "metadata": {},
   "source": [
    "# 5.NORMALIZE THE X VALUES(PRODUCED BY MULTIVARIATE REGRESSION)"
   ]
  },
  {
   "cell_type": "code",
   "execution_count": 1,
   "metadata": {},
   "outputs": [],
   "source": [
    "import pandas as pd\n",
    "import numpy as np"
   ]
  },
  {
   "cell_type": "code",
   "execution_count": 2,
   "metadata": {},
   "outputs": [],
   "source": [
    "#Import the file produced via, regression\n",
    "lr_x=pd.read_csv('Updated_LR_Nutritional_Content.csv')"
   ]
  },
  {
   "cell_type": "code",
   "execution_count": 3,
   "metadata": {},
   "outputs": [],
   "source": [
    "lr_x=lr_x.drop(['Unique_Ingredients'],axis=1)"
   ]
  },
  {
   "cell_type": "code",
   "execution_count": 4,
   "metadata": {},
   "outputs": [
    {
     "data": {
      "text/html": [
       "<div>\n",
       "<style scoped>\n",
       "    .dataframe tbody tr th:only-of-type {\n",
       "        vertical-align: middle;\n",
       "    }\n",
       "\n",
       "    .dataframe tbody tr th {\n",
       "        vertical-align: top;\n",
       "    }\n",
       "\n",
       "    .dataframe thead th {\n",
       "        text-align: right;\n",
       "    }\n",
       "</style>\n",
       "<table border=\"1\" class=\"dataframe\">\n",
       "  <thead>\n",
       "    <tr style=\"text-align: right;\">\n",
       "      <th></th>\n",
       "      <th>sugars</th>\n",
       "      <th>fat</th>\n",
       "      <th>protein</th>\n",
       "      <th>sodium</th>\n",
       "    </tr>\n",
       "  </thead>\n",
       "  <tbody>\n",
       "    <tr>\n",
       "      <th>0</th>\n",
       "      <td>5.317356</td>\n",
       "      <td>-1.724907</td>\n",
       "      <td>15.075557</td>\n",
       "      <td>-1553.711968</td>\n",
       "    </tr>\n",
       "    <tr>\n",
       "      <th>1</th>\n",
       "      <td>-11.634599</td>\n",
       "      <td>12.200291</td>\n",
       "      <td>6.893453</td>\n",
       "      <td>416.373060</td>\n",
       "    </tr>\n",
       "    <tr>\n",
       "      <th>2</th>\n",
       "      <td>-16.295311</td>\n",
       "      <td>-24.116738</td>\n",
       "      <td>-22.425870</td>\n",
       "      <td>-795.365939</td>\n",
       "    </tr>\n",
       "    <tr>\n",
       "      <th>3</th>\n",
       "      <td>8.188220</td>\n",
       "      <td>13.358360</td>\n",
       "      <td>1.661408</td>\n",
       "      <td>336.985633</td>\n",
       "    </tr>\n",
       "    <tr>\n",
       "      <th>4</th>\n",
       "      <td>-8.821069</td>\n",
       "      <td>2.058377</td>\n",
       "      <td>-3.561740</td>\n",
       "      <td>-42.563335</td>\n",
       "    </tr>\n",
       "  </tbody>\n",
       "</table>\n",
       "</div>"
      ],
      "text/plain": [
       "      sugars        fat    protein       sodium\n",
       "0   5.317356  -1.724907  15.075557 -1553.711968\n",
       "1 -11.634599  12.200291   6.893453   416.373060\n",
       "2 -16.295311 -24.116738 -22.425870  -795.365939\n",
       "3   8.188220  13.358360   1.661408   336.985633\n",
       "4  -8.821069   2.058377  -3.561740   -42.563335"
      ]
     },
     "execution_count": 4,
     "metadata": {},
     "output_type": "execute_result"
    }
   ],
   "source": [
    "lr_x.head()"
   ]
  },
  {
   "cell_type": "code",
   "execution_count": 5,
   "metadata": {},
   "outputs": [],
   "source": [
    "lr_x=lr_x.to_numpy()"
   ]
  },
  {
   "cell_type": "code",
   "execution_count": 6,
   "metadata": {},
   "outputs": [],
   "source": [
    "R=np.load('out.npy')"
   ]
  },
  {
   "cell_type": "code",
   "execution_count": 7,
   "metadata": {},
   "outputs": [
    {
     "name": "stdout",
     "output_type": "stream",
     "text": [
      "[[0 0 0 ... 0 0 0]\n",
      " [0 0 0 ... 0 0 0]\n",
      " [0 0 0 ... 0 0 0]\n",
      " ...\n",
      " [0 0 0 ... 0 0 0]\n",
      " [0 0 0 ... 0 0 0]\n",
      " [0 0 0 ... 0 0 0]]\n"
     ]
    }
   ],
   "source": [
    "print(R)"
   ]
  },
  {
   "cell_type": "code",
   "execution_count": 16,
   "metadata": {},
   "outputs": [],
   "source": [
    "#As negative values in x dont make any value, make then to 0\n",
    "lr_x = np.where(lr_x<0,0,lr_x)"
   ]
  },
  {
   "cell_type": "code",
   "execution_count": 17,
   "metadata": {},
   "outputs": [
    {
     "name": "stdout",
     "output_type": "stream",
     "text": [
      "[[5.31735554e+00 0.00000000e+00 1.50755566e+01 0.00000000e+00]\n",
      " [0.00000000e+00 1.22002908e+01 6.89345274e+00 4.16373060e+02]\n",
      " [0.00000000e+00 0.00000000e+00 0.00000000e+00 0.00000000e+00]\n",
      " ...\n",
      " [0.00000000e+00 0.00000000e+00 0.00000000e+00 3.76000000e+12]\n",
      " [0.00000000e+00 7.79700464e+00 0.00000000e+00 0.00000000e+00]\n",
      " [0.00000000e+00 1.02420540e+01 0.00000000e+00 4.48055908e+02]]\n"
     ]
    }
   ],
   "source": [
    "print(lr_x)"
   ]
  },
  {
   "cell_type": "code",
   "execution_count": 21,
   "metadata": {},
   "outputs": [
    {
     "name": "stdout",
     "output_type": "stream",
     "text": [
      "[2.80e+14 3.04e+14 4.25e+14 1.59e+16]\n"
     ]
    }
   ],
   "source": [
    "#Find the maximum value in each nutrient coloumn\n",
    "lr_x = np.where(lr_x<0,0,lr_x)\n",
    "x1_max = np.amax(lr_x,axis=0)\n",
    "print(x1_max)"
   ]
  },
  {
   "cell_type": "code",
   "execution_count": 24,
   "metadata": {},
   "outputs": [],
   "source": [
    "#Set limit for each Nutrient, any value greater than this must be normalized\n",
    "#Note that values for sodium are in mg, thus nesessary conversion has been done while setting the value\n",
    "limit=[100,100,100,5000]"
   ]
  },
  {
   "cell_type": "code",
   "execution_count": 26,
   "metadata": {},
   "outputs": [],
   "source": [
    "for j in range(4):\n",
    "    for i in range(15662):\n",
    "        if lr_x[i][j]>=limit[j]:\n",
    "            lr_x[i][j]/=x1_max[j]\n",
    "    "
   ]
  },
  {
   "cell_type": "code",
   "execution_count": 27,
   "metadata": {},
   "outputs": [
    {
     "name": "stdout",
     "output_type": "stream",
     "text": [
      "[[5.31735554e+00 0.00000000e+00 1.50755566e+01 0.00000000e+00]\n",
      " [0.00000000e+00 1.22002908e+01 6.89345274e+00 4.16373060e+02]\n",
      " [0.00000000e+00 0.00000000e+00 0.00000000e+00 0.00000000e+00]\n",
      " ...\n",
      " [0.00000000e+00 0.00000000e+00 0.00000000e+00 2.36477987e-04]\n",
      " [0.00000000e+00 7.79700464e+00 0.00000000e+00 0.00000000e+00]\n",
      " [0.00000000e+00 1.02420540e+01 0.00000000e+00 4.48055908e+02]]\n"
     ]
    }
   ],
   "source": [
    "print(lr_x)"
   ]
  },
  {
   "cell_type": "code",
   "execution_count": 28,
   "metadata": {},
   "outputs": [],
   "source": [
    "import pandas as pd\n",
    "import numpy as np\n",
    "df = pd.DataFrame(lr_x, columns = ['sugars','fat','protein','sodium'])"
   ]
  },
  {
   "cell_type": "code",
   "execution_count": 29,
   "metadata": {},
   "outputs": [],
   "source": [
    "df.to_csv('Normalized_LR_Nutritional_content.csv')"
   ]
  }
 ],
 "metadata": {
  "kernelspec": {
   "display_name": "Python 3",
   "language": "python",
   "name": "python3"
  },
  "language_info": {
   "codemirror_mode": {
    "name": "ipython",
    "version": 3
   },
   "file_extension": ".py",
   "mimetype": "text/x-python",
   "name": "python",
   "nbconvert_exporter": "python",
   "pygments_lexer": "ipython3",
   "version": "3.6.5"
  }
 },
 "nbformat": 4,
 "nbformat_minor": 2
}
