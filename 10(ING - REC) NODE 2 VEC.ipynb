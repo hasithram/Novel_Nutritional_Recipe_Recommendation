{
 "cells": [
  {
   "cell_type": "markdown",
   "metadata": {},
   "source": [
    "# 10.APPLY NODE2VEC ON Ingredient-Recipe Biparite Graph\n",
    "\n",
    "# SAVE THE MODEL AND EMBEDDINGS FOR FINAL RECOMMENDATION"
   ]
  },
  {
   "cell_type": "code",
   "execution_count": 1,
   "metadata": {},
   "outputs": [
    {
     "data": {
      "text/html": [
       "<div>\n",
       "<style scoped>\n",
       "    .dataframe tbody tr th:only-of-type {\n",
       "        vertical-align: middle;\n",
       "    }\n",
       "\n",
       "    .dataframe tbody tr th {\n",
       "        vertical-align: top;\n",
       "    }\n",
       "\n",
       "    .dataframe thead th {\n",
       "        text-align: right;\n",
       "    }\n",
       "</style>\n",
       "<table border=\"1\" class=\"dataframe\">\n",
       "  <thead>\n",
       "    <tr style=\"text-align: right;\">\n",
       "      <th></th>\n",
       "      <th>recipe_id</th>\n",
       "      <th>recipe_name</th>\n",
       "      <th>image_url</th>\n",
       "      <th>ingredients</th>\n",
       "      <th>cooking_directions</th>\n",
       "      <th>nutritions</th>\n",
       "    </tr>\n",
       "  </thead>\n",
       "  <tbody>\n",
       "    <tr>\n",
       "      <th>0</th>\n",
       "      <td>240488</td>\n",
       "      <td>Pork Loin, Apples, and Sauerkraut</td>\n",
       "      <td>https://images.media-allrecipes.com/userphotos...</td>\n",
       "      <td>sauerkraut,granny smith apples,onion,caraway s...</td>\n",
       "      <td>{'directions': u'Prep\\n15 m\\nCook\\n2 h 30 m\\nR...</td>\n",
       "      <td>{u'niacin': {u'hasCompleteData': False, u'name...</td>\n",
       "    </tr>\n",
       "    <tr>\n",
       "      <th>1</th>\n",
       "      <td>218939</td>\n",
       "      <td>Foolproof Rosemary Chicken Wings</td>\n",
       "      <td>https://images.media-allrecipes.com/userphotos...</td>\n",
       "      <td>chicken wings,sprigs,head garlic,oil,pepper,salt</td>\n",
       "      <td>{'directions': u\"Prep\\n20 m\\nCook\\n40 m\\nReady...</td>\n",
       "      <td>{u'niacin': {u'hasCompleteData': True, u'name'...</td>\n",
       "    </tr>\n",
       "    <tr>\n",
       "      <th>2</th>\n",
       "      <td>87211</td>\n",
       "      <td>Chicken Pesto Paninis</td>\n",
       "      <td>https://images.media-allrecipes.com/userphotos...</td>\n",
       "      <td>bread,basil pesto,chicken,bell pepper,onion,mo...</td>\n",
       "      <td>{'directions': u'Prep\\n15 m\\nCook\\n5 m\\nReady ...</td>\n",
       "      <td>{u'niacin': {u'hasCompleteData': True, u'name'...</td>\n",
       "    </tr>\n",
       "    <tr>\n",
       "      <th>3</th>\n",
       "      <td>245714</td>\n",
       "      <td>Potato Bacon Pizza</td>\n",
       "      <td>https://images.media-allrecipes.com/userphotos...</td>\n",
       "      <td>potatoes,strips bacon,sauce,whipping cream,but...</td>\n",
       "      <td>{'directions': u'Prep\\n20 m\\nCook\\n45 m\\nReady...</td>\n",
       "      <td>{u'niacin': {u'hasCompleteData': True, u'name'...</td>\n",
       "    </tr>\n",
       "    <tr>\n",
       "      <th>4</th>\n",
       "      <td>218545</td>\n",
       "      <td>Latin-Inspired Spicy Cream Chicken Stew</td>\n",
       "      <td>https://images.media-allrecipes.com/userphotos...</td>\n",
       "      <td>skinless boneless breast halves,tomatoes,salsa...</td>\n",
       "      <td>{'directions': u'Prep\\n10 m\\nCook\\n8 h 15 m\\nR...</td>\n",
       "      <td>{u'niacin': {u'hasCompleteData': False, u'name...</td>\n",
       "    </tr>\n",
       "  </tbody>\n",
       "</table>\n",
       "</div>"
      ],
      "text/plain": [
       "   recipe_id                              recipe_name  \\\n",
       "0     240488        Pork Loin, Apples, and Sauerkraut   \n",
       "1     218939         Foolproof Rosemary Chicken Wings   \n",
       "2      87211                    Chicken Pesto Paninis   \n",
       "3     245714                       Potato Bacon Pizza   \n",
       "4     218545  Latin-Inspired Spicy Cream Chicken Stew   \n",
       "\n",
       "                                           image_url  \\\n",
       "0  https://images.media-allrecipes.com/userphotos...   \n",
       "1  https://images.media-allrecipes.com/userphotos...   \n",
       "2  https://images.media-allrecipes.com/userphotos...   \n",
       "3  https://images.media-allrecipes.com/userphotos...   \n",
       "4  https://images.media-allrecipes.com/userphotos...   \n",
       "\n",
       "                                         ingredients  \\\n",
       "0  sauerkraut,granny smith apples,onion,caraway s...   \n",
       "1   chicken wings,sprigs,head garlic,oil,pepper,salt   \n",
       "2  bread,basil pesto,chicken,bell pepper,onion,mo...   \n",
       "3  potatoes,strips bacon,sauce,whipping cream,but...   \n",
       "4  skinless boneless breast halves,tomatoes,salsa...   \n",
       "\n",
       "                                  cooking_directions  \\\n",
       "0  {'directions': u'Prep\\n15 m\\nCook\\n2 h 30 m\\nR...   \n",
       "1  {'directions': u\"Prep\\n20 m\\nCook\\n40 m\\nReady...   \n",
       "2  {'directions': u'Prep\\n15 m\\nCook\\n5 m\\nReady ...   \n",
       "3  {'directions': u'Prep\\n20 m\\nCook\\n45 m\\nReady...   \n",
       "4  {'directions': u'Prep\\n10 m\\nCook\\n8 h 15 m\\nR...   \n",
       "\n",
       "                                          nutritions  \n",
       "0  {u'niacin': {u'hasCompleteData': False, u'name...  \n",
       "1  {u'niacin': {u'hasCompleteData': True, u'name'...  \n",
       "2  {u'niacin': {u'hasCompleteData': True, u'name'...  \n",
       "3  {u'niacin': {u'hasCompleteData': True, u'name'...  \n",
       "4  {u'niacin': {u'hasCompleteData': False, u'name...  "
      ]
     },
     "execution_count": 1,
     "metadata": {},
     "output_type": "execute_result"
    }
   ],
   "source": [
    "import os\n",
    "import pandas as pd\n",
    "irdata = pd.read_csv('no_drop.csv')\n",
    "irdata.head()"
   ]
  },
  {
   "cell_type": "code",
   "execution_count": 2,
   "metadata": {},
   "outputs": [
    {
     "data": {
      "text/html": [
       "<div>\n",
       "<style scoped>\n",
       "    .dataframe tbody tr th:only-of-type {\n",
       "        vertical-align: middle;\n",
       "    }\n",
       "\n",
       "    .dataframe tbody tr th {\n",
       "        vertical-align: top;\n",
       "    }\n",
       "\n",
       "    .dataframe thead th {\n",
       "        text-align: right;\n",
       "    }\n",
       "</style>\n",
       "<table border=\"1\" class=\"dataframe\">\n",
       "  <thead>\n",
       "    <tr style=\"text-align: right;\">\n",
       "      <th></th>\n",
       "      <th>Unique_Ingredients</th>\n",
       "    </tr>\n",
       "  </thead>\n",
       "  <tbody>\n",
       "    <tr>\n",
       "      <th>0</th>\n",
       "      <td>candlenuts</td>\n",
       "    </tr>\n",
       "    <tr>\n",
       "      <th>1</th>\n",
       "      <td>hillshire farm smoked sausage</td>\n",
       "    </tr>\n",
       "    <tr>\n",
       "      <th>2</th>\n",
       "      <td>zest peel</td>\n",
       "    </tr>\n",
       "    <tr>\n",
       "      <th>3</th>\n",
       "      <td>marsala wine optional</td>\n",
       "    </tr>\n",
       "    <tr>\n",
       "      <th>4</th>\n",
       "      <td>asparagus liquid</td>\n",
       "    </tr>\n",
       "  </tbody>\n",
       "</table>\n",
       "</div>"
      ],
      "text/plain": [
       "              Unique_Ingredients\n",
       "0                     candlenuts\n",
       "1  hillshire farm smoked sausage\n",
       "2                      zest peel\n",
       "3          marsala wine optional\n",
       "4               asparagus liquid"
      ]
     },
     "execution_count": 2,
     "metadata": {},
     "output_type": "execute_result"
    }
   ],
   "source": [
    "uni=pd.read_csv('Updated_Unique_Ingredients.csv')\n",
    "uni.head()"
   ]
  },
  {
   "cell_type": "code",
   "execution_count": 3,
   "metadata": {},
   "outputs": [],
   "source": [
    "irdata['recipe_id'] = 'r' + irdata['recipe_id'].astype(str)"
   ]
  },
  {
   "cell_type": "code",
   "execution_count": 4,
   "metadata": {},
   "outputs": [
    {
     "data": {
      "text/html": [
       "<div>\n",
       "<style scoped>\n",
       "    .dataframe tbody tr th:only-of-type {\n",
       "        vertical-align: middle;\n",
       "    }\n",
       "\n",
       "    .dataframe tbody tr th {\n",
       "        vertical-align: top;\n",
       "    }\n",
       "\n",
       "    .dataframe thead th {\n",
       "        text-align: right;\n",
       "    }\n",
       "</style>\n",
       "<table border=\"1\" class=\"dataframe\">\n",
       "  <thead>\n",
       "    <tr style=\"text-align: right;\">\n",
       "      <th></th>\n",
       "      <th>Unnamed: 0</th>\n",
       "      <th>recipe_id</th>\n",
       "      <th>recipe_name</th>\n",
       "      <th>image_url</th>\n",
       "      <th>ingredients</th>\n",
       "      <th>cooking_directions</th>\n",
       "      <th>nutritions</th>\n",
       "    </tr>\n",
       "  </thead>\n",
       "  <tbody>\n",
       "    <tr>\n",
       "      <th>0</th>\n",
       "      <td>0</td>\n",
       "      <td>r240488</td>\n",
       "      <td>Pork Loin, Apples, and Sauerkraut</td>\n",
       "      <td>https://images.media-allrecipes.com/userphotos...</td>\n",
       "      <td>sauerkraut,granny smith apples,onion,caraway s...</td>\n",
       "      <td>{'directions': u'Prep\\n15 m\\nCook\\n2 h 30 m\\nR...</td>\n",
       "      <td>{u'niacin': {u'hasCompleteData': False, u'name...</td>\n",
       "    </tr>\n",
       "    <tr>\n",
       "      <th>1</th>\n",
       "      <td>1</td>\n",
       "      <td>r218939</td>\n",
       "      <td>Foolproof Rosemary Chicken Wings</td>\n",
       "      <td>https://images.media-allrecipes.com/userphotos...</td>\n",
       "      <td>chicken wings,sprigs,head garlic,oil,pepper,salt</td>\n",
       "      <td>{'directions': u\"Prep\\n20 m\\nCook\\n40 m\\nReady...</td>\n",
       "      <td>{u'niacin': {u'hasCompleteData': True, u'name'...</td>\n",
       "    </tr>\n",
       "    <tr>\n",
       "      <th>2</th>\n",
       "      <td>2</td>\n",
       "      <td>r87211</td>\n",
       "      <td>Chicken Pesto Paninis</td>\n",
       "      <td>https://images.media-allrecipes.com/userphotos...</td>\n",
       "      <td>bread,basil pesto,chicken,bell pepper,onion,mo...</td>\n",
       "      <td>{'directions': u'Prep\\n15 m\\nCook\\n5 m\\nReady ...</td>\n",
       "      <td>{u'niacin': {u'hasCompleteData': True, u'name'...</td>\n",
       "    </tr>\n",
       "    <tr>\n",
       "      <th>3</th>\n",
       "      <td>3</td>\n",
       "      <td>r245714</td>\n",
       "      <td>Potato Bacon Pizza</td>\n",
       "      <td>https://images.media-allrecipes.com/userphotos...</td>\n",
       "      <td>potatoes,strips bacon,sauce,whipping cream,but...</td>\n",
       "      <td>{'directions': u'Prep\\n20 m\\nCook\\n45 m\\nReady...</td>\n",
       "      <td>{u'niacin': {u'hasCompleteData': True, u'name'...</td>\n",
       "    </tr>\n",
       "    <tr>\n",
       "      <th>4</th>\n",
       "      <td>4</td>\n",
       "      <td>r218545</td>\n",
       "      <td>Latin-Inspired Spicy Cream Chicken Stew</td>\n",
       "      <td>https://images.media-allrecipes.com/userphotos...</td>\n",
       "      <td>skinless boneless breast halves,tomatoes,salsa...</td>\n",
       "      <td>{'directions': u'Prep\\n10 m\\nCook\\n8 h 15 m\\nR...</td>\n",
       "      <td>{u'niacin': {u'hasCompleteData': False, u'name...</td>\n",
       "    </tr>\n",
       "  </tbody>\n",
       "</table>\n",
       "</div>"
      ],
      "text/plain": [
       "   Unnamed: 0 recipe_id                              recipe_name  \\\n",
       "0           0   r240488        Pork Loin, Apples, and Sauerkraut   \n",
       "1           1   r218939         Foolproof Rosemary Chicken Wings   \n",
       "2           2    r87211                    Chicken Pesto Paninis   \n",
       "3           3   r245714                       Potato Bacon Pizza   \n",
       "4           4   r218545  Latin-Inspired Spicy Cream Chicken Stew   \n",
       "\n",
       "                                           image_url  \\\n",
       "0  https://images.media-allrecipes.com/userphotos...   \n",
       "1  https://images.media-allrecipes.com/userphotos...   \n",
       "2  https://images.media-allrecipes.com/userphotos...   \n",
       "3  https://images.media-allrecipes.com/userphotos...   \n",
       "4  https://images.media-allrecipes.com/userphotos...   \n",
       "\n",
       "                                         ingredients  \\\n",
       "0  sauerkraut,granny smith apples,onion,caraway s...   \n",
       "1   chicken wings,sprigs,head garlic,oil,pepper,salt   \n",
       "2  bread,basil pesto,chicken,bell pepper,onion,mo...   \n",
       "3  potatoes,strips bacon,sauce,whipping cream,but...   \n",
       "4  skinless boneless breast halves,tomatoes,salsa...   \n",
       "\n",
       "                                  cooking_directions  \\\n",
       "0  {'directions': u'Prep\\n15 m\\nCook\\n2 h 30 m\\nR...   \n",
       "1  {'directions': u\"Prep\\n20 m\\nCook\\n40 m\\nReady...   \n",
       "2  {'directions': u'Prep\\n15 m\\nCook\\n5 m\\nReady ...   \n",
       "3  {'directions': u'Prep\\n20 m\\nCook\\n45 m\\nReady...   \n",
       "4  {'directions': u'Prep\\n10 m\\nCook\\n8 h 15 m\\nR...   \n",
       "\n",
       "                                          nutritions  \n",
       "0  {u'niacin': {u'hasCompleteData': False, u'name...  \n",
       "1  {u'niacin': {u'hasCompleteData': True, u'name'...  \n",
       "2  {u'niacin': {u'hasCompleteData': True, u'name'...  \n",
       "3  {u'niacin': {u'hasCompleteData': True, u'name'...  \n",
       "4  {u'niacin': {u'hasCompleteData': False, u'name...  "
      ]
     },
     "execution_count": 4,
     "metadata": {},
     "output_type": "execute_result"
    }
   ],
   "source": [
    "irdata.head()"
   ]
  },
  {
   "cell_type": "code",
   "execution_count": 5,
   "metadata": {},
   "outputs": [],
   "source": [
    "recipe_id=list(irdata.recipe_id)"
   ]
  },
  {
   "cell_type": "code",
   "execution_count": 6,
   "metadata": {},
   "outputs": [
    {
     "data": {
      "text/plain": [
       "['r240488', 'r218939', 'r87211', 'r245714', 'r218545']"
      ]
     },
     "execution_count": 6,
     "metadata": {},
     "output_type": "execute_result"
    }
   ],
   "source": [
    "recipe_id[:5]"
   ]
  },
  {
   "cell_type": "code",
   "execution_count": 7,
   "metadata": {},
   "outputs": [],
   "source": [
    "unique_ingredients=list(uni.Unique_Ingredients)"
   ]
  },
  {
   "cell_type": "code",
   "execution_count": 8,
   "metadata": {},
   "outputs": [
    {
     "data": {
      "text/plain": [
       "['candlenuts',\n",
       " 'hillshire farm smoked sausage',\n",
       " 'zest peel',\n",
       " 'marsala wine optional',\n",
       " 'asparagus liquid']"
      ]
     },
     "execution_count": 8,
     "metadata": {},
     "output_type": "execute_result"
    }
   ],
   "source": [
    "unique_ingredients[:5]"
   ]
  },
  {
   "cell_type": "code",
   "execution_count": 9,
   "metadata": {},
   "outputs": [],
   "source": [
    "total_ingredients=list(irdata.ingredients)"
   ]
  },
  {
   "cell_type": "code",
   "execution_count": 10,
   "metadata": {},
   "outputs": [],
   "source": [
    "import networkx as nx\n",
    "import matplotlib.pyplot as plt\n",
    " \n",
    "#Create a graph\n",
    "G = nx.DiGraph()\n",
    "\n",
    "#Add nodes\n",
    "G.add_nodes_from(unique_ingredients, bipartite=0)\n",
    "G.add_nodes_from(recipe_id, bipartite=1)\n",
    "\n",
    "# Iterating through Unique_ingredients to comapre with each recipe's ingredients\n",
    "for i in range(len(recipe_id)):\n",
    "    for x in unique_ingredients:\n",
    "        if x in total_ingredients[i]:\n",
    "            G.add_edge(x,recipe_id[i])"
   ]
  },
  {
   "cell_type": "code",
   "execution_count": 11,
   "metadata": {},
   "outputs": [],
   "source": [
    "import networkx as nx\n",
    "from node2vec import Node2Vec"
   ]
  },
  {
   "cell_type": "code",
   "execution_count": 12,
   "metadata": {},
   "outputs": [
    {
     "data": {
      "application/vnd.jupyter.widget-view+json": {
       "model_id": "17dd4b506fa5431f9066940e9a71d22d",
       "version_major": 2,
       "version_minor": 0
      },
      "text/plain": [
       "HBox(children=(FloatProgress(value=0.0, description='Computing transition probabilities', max=61292.0, style=P…"
      ]
     },
     "metadata": {},
     "output_type": "display_data"
    },
    {
     "name": "stderr",
     "output_type": "stream",
     "text": [
      "\r",
      "Generating walks (CPU: 1):   0%|                                                                | 0/10 [00:00<?, ?it/s]"
     ]
    },
    {
     "name": "stdout",
     "output_type": "stream",
     "text": [
      "\n"
     ]
    },
    {
     "name": "stderr",
     "output_type": "stream",
     "text": [
      "Generating walks (CPU: 1): 100%|███████████████████████████████████████████████████████| 10/10 [00:09<00:00,  1.02it/s]\n"
     ]
    }
   ],
   "source": [
    "node2vec = Node2Vec(G, dimensions=128, walk_length=80, num_walks=10, workers=1)"
   ]
  },
  {
   "cell_type": "code",
   "execution_count": 13,
   "metadata": {},
   "outputs": [],
   "source": [
    "model = node2vec.fit(window=10, min_count=1, batch_words=4)"
   ]
  },
  {
   "cell_type": "code",
   "execution_count": 14,
   "metadata": {},
   "outputs": [],
   "source": [
    "model.wv.save_word2vec_format(\"embeddings_ingredients_recipe\")"
   ]
  },
  {
   "cell_type": "code",
   "execution_count": 16,
   "metadata": {},
   "outputs": [],
   "source": [
    "model.save(\"model_ingredients_recipe\")"
   ]
  },
  {
   "cell_type": "code",
   "execution_count": 2,
   "metadata": {},
   "outputs": [],
   "source": [
    "import gensim\n",
    "\n",
    "# Load pre-trained Word2Vec model.\n",
    "model = gensim.models.Word2Vec.load(\"model_ingredients_recipe\")"
   ]
  },
  {
   "cell_type": "markdown",
   "metadata": {},
   "source": [
    "# The inbulit module most_similar uses KNN along with cosine similarity as a metric, as gives the similar nodes to the input given  "
   ]
  },
  {
   "cell_type": "code",
   "execution_count": 13,
   "metadata": {},
   "outputs": [
    {
     "name": "stdout",
     "output_type": "stream",
     "text": [
      "brown pistolette rolls\n",
      "pound chicken\n",
      "links sausage eckrich\n",
      "shrimp brine\n",
      "dogs slices\n",
      "fluid ounce jagermeister liqueur\n",
      "sugar sugar substitute\n",
      "prosciutto thin\n",
      "dole classic coleslaw\n"
     ]
    },
    {
     "name": "stderr",
     "output_type": "stream",
     "text": [
      "C:\\ProgramData\\Anaconda3\\lib\\site-packages\\ipykernel_launcher.py:1: DeprecationWarning: Call to deprecated `most_similar` (Method will be removed in 4.0.0, use self.wv.most_similar() instead).\n",
      "  \"\"\"Entry point for launching an IPython kernel.\n"
     ]
    }
   ],
   "source": [
    "for node, _ in model.most_similar('butterhead boston',topn=10):\n",
    "    # Show only ingredient\n",
    "    if any(char.isdigit() for char in node) == False:\n",
    "        print(node)"
   ]
  },
  {
   "cell_type": "code",
   "execution_count": 9,
   "metadata": {},
   "outputs": [
    {
     "name": "stdout",
     "output_type": "stream",
     "text": [
      "r213807\n",
      "r8809\n",
      "r95817\n",
      "r212476\n",
      "r127325\n",
      "r23622\n",
      "r87211\n",
      "r235652\n"
     ]
    },
    {
     "name": "stderr",
     "output_type": "stream",
     "text": [
      "C:\\ProgramData\\Anaconda3\\lib\\site-packages\\ipykernel_launcher.py:1: DeprecationWarning: Call to deprecated `most_similar` (Method will be removed in 4.0.0, use self.wv.most_similar() instead).\n",
      "  \"\"\"Entry point for launching an IPython kernel.\n"
     ]
    }
   ],
   "source": [
    "for node, _ in model.most_similar('r17525'):\n",
    "    # Show only recipes\n",
    "    if any(char.isdigit() for char in node) == True:\n",
    "        print(node)"
   ]
  },
  {
   "cell_type": "code",
   "execution_count": 12,
   "metadata": {},
   "outputs": [
    {
     "name": "stdout",
     "output_type": "stream",
     "text": [
      "pomegranate cranberry dressing\n",
      "family teabags orange pekoe tea\n",
      "racks st louis style ribs\n",
      "garlic bread\n",
      "bunch cilantro leaves\n",
      "cucumber sauce\n",
      "head endive\n"
     ]
    },
    {
     "name": "stderr",
     "output_type": "stream",
     "text": [
      "C:\\ProgramData\\Anaconda3\\lib\\site-packages\\ipykernel_launcher.py:1: DeprecationWarning: Call to deprecated `most_similar` (Method will be removed in 4.0.0, use self.wv.most_similar() instead).\n",
      "  \"\"\"Entry point for launching an IPython kernel.\n"
     ]
    }
   ],
   "source": [
    "for node, _ in model.most_similar('reducedfat reducedsodium cream chicken soup campbells healthy request',topn=30):\n",
    "    # Show only ingredient\n",
    "    if any(char.isdigit() for char in node) == False:\n",
    "        print(node)"
   ]
  },
  {
   "cell_type": "code",
   "execution_count": 16,
   "metadata": {},
   "outputs": [
    {
     "name": "stdout",
     "output_type": "stream",
     "text": [
      "noodles substitute linguine\n",
      "basil pesto classico ™\n",
      "molasses\n",
      "citrus corn salad\n",
      "baby potatoes\n"
     ]
    },
    {
     "name": "stderr",
     "output_type": "stream",
     "text": [
      "C:\\ProgramData\\Anaconda3\\lib\\site-packages\\ipykernel_launcher.py:1: DeprecationWarning: Call to deprecated `most_similar` (Method will be removed in 4.0.0, use self.wv.most_similar() instead).\n",
      "  \"\"\"Entry point for launching an IPython kernel.\n"
     ]
    }
   ],
   "source": [
    "for node, _ in model.most_similar('zest peel',topn=10):\n",
    "    # Show only ingredient\n",
    "    if any(char.isdigit() for char in node) == False:\n",
    "        print(node)"
   ]
  },
  {
   "cell_type": "code",
   "execution_count": 22,
   "metadata": {},
   "outputs": [
    {
     "name": "stderr",
     "output_type": "stream",
     "text": [
      "C:\\ProgramData\\Anaconda3\\lib\\site-packages\\ipykernel_launcher.py:2: DeprecationWarning: Call to deprecated `most_similar` (Method will be removed in 4.0.0, use self.wv.most_similar() instead).\n",
      "  \n"
     ]
    }
   ],
   "source": [
    "similar_ingredients=list()\n",
    "for node, _ in model.most_similar('butterhead boston',topn=10):\n",
    "    # Show only ingredient\n",
    "    if any(char.isdigit() for char in node) == False:\n",
    "        similar_ingredients.append(node)"
   ]
  },
  {
   "cell_type": "code",
   "execution_count": 23,
   "metadata": {},
   "outputs": [
    {
     "name": "stdout",
     "output_type": "stream",
     "text": [
      "['brown pistolette rolls', 'pound chicken', 'links sausage eckrich', 'shrimp brine', 'dogs slices', 'fluid ounce jagermeister liqueur', 'sugar sugar substitute', 'prosciutto thin', 'dole classic coleslaw', 'old el paso enchilada sauce']\n"
     ]
    }
   ],
   "source": [
    "print(similar_ingredients)"
   ]
  },
  {
   "cell_type": "code",
   "execution_count": 28,
   "metadata": {},
   "outputs": [
    {
     "name": "stdout",
     "output_type": "stream",
     "text": [
      "r149591\n",
      "r16800\n",
      "r229977\n",
      "r89845\n",
      "r216922\n",
      "r55049\n",
      "r14168\n",
      "r86037\n",
      "r23082\n",
      "r228485\n"
     ]
    },
    {
     "name": "stderr",
     "output_type": "stream",
     "text": [
      "C:\\ProgramData\\Anaconda3\\lib\\site-packages\\ipykernel_launcher.py:1: DeprecationWarning: Call to deprecated `most_similar` (Method will be removed in 4.0.0, use self.wv.most_similar() instead).\n",
      "  \"\"\"Entry point for launching an IPython kernel.\n"
     ]
    }
   ],
   "source": [
    "for node, _ in model.most_similar(similar_ingredients,topn=10):\n",
    "    # Show only ingredient\n",
    "    if any(char.isdigit() for char in node) == True:\n",
    "        print(node)"
   ]
  },
  {
   "cell_type": "code",
   "execution_count": 8,
   "metadata": {},
   "outputs": [
    {
     "name": "stdout",
     "output_type": "stream",
     "text": [
      "dish pie crusts\n",
      "coarse bulgur\n",
      "beef sausage hillshire farm\n",
      "mango\n",
      "paste kochujang\n",
      "asparagus ends\n",
      "wedges lime\n",
      "chocolate mix\n",
      "peach brandy\n"
     ]
    },
    {
     "name": "stderr",
     "output_type": "stream",
     "text": [
      "C:\\ProgramData\\Anaconda3\\lib\\site-packages\\ipykernel_launcher.py:1: DeprecationWarning: Call to deprecated `most_similar` (Method will be removed in 4.0.0, use self.wv.most_similar() instead).\n",
      "  \"\"\"Entry point for launching an IPython kernel.\n"
     ]
    }
   ],
   "source": [
    "for node, k in model.most_similar('chicken broth',topn=60):\n",
    "    # Show only ingredient\n",
    "    if any(char.isdigit() for char in node) == False:\n",
    "        print(node)"
   ]
  },
  {
   "cell_type": "code",
   "execution_count": 3,
   "metadata": {},
   "outputs": [
    {
     "name": "stdout",
     "output_type": "stream",
     "text": [
      "head cabbage cut eighths\n",
      "cream cheese chives\n",
      "salt spice islands beau monde\n",
      "ginger crust\n",
      "banana pepper\n",
      "ramen noodles\n",
      "bacon pieces\n",
      "poultry bells\n",
      "fluid ounce scotch whiskey\n",
      "artichokes heart\n",
      "chihuaua cheese\n",
      "spinach pasta\n"
     ]
    },
    {
     "name": "stderr",
     "output_type": "stream",
     "text": [
      "C:\\ProgramData\\Anaconda3\\lib\\site-packages\\ipykernel_launcher.py:1: DeprecationWarning: Call to deprecated `most_similar` (Method will be removed in 4.0.0, use self.wv.most_similar() instead).\n",
      "  \"\"\"Entry point for launching an IPython kernel.\n"
     ]
    }
   ],
   "source": [
    "for node, k in model.most_similar('bacon',topn=60):\n",
    "    # Show only ingredient\n",
    "    if any(char.isdigit() for char in node) == False:\n",
    "        print(node)"
   ]
  },
  {
   "cell_type": "code",
   "execution_count": 4,
   "metadata": {},
   "outputs": [
    {
     "name": "stdout",
     "output_type": "stream",
     "text": [
      "bars caramelpeanut nougat candy\n",
      "kielbasa sausage\n",
      "coarsegrain mustard\n",
      "dole carrots\n",
      "oatmeal mccanns\n",
      "friendship bread starter\n",
      "roll dough\n",
      "clementines\n",
      "fluid ounce maple syrup\n",
      "round pepper\n",
      "juice pepper rings\n",
      "boneless pork sirloin roast kitchen twine\n",
      "pint ripe blackberries room temperature\n",
      "sauce bolognese\n"
     ]
    },
    {
     "name": "stderr",
     "output_type": "stream",
     "text": [
      "C:\\ProgramData\\Anaconda3\\lib\\site-packages\\ipykernel_launcher.py:1: DeprecationWarning: Call to deprecated `most_similar` (Method will be removed in 4.0.0, use self.wv.most_similar() instead).\n",
      "  \"\"\"Entry point for launching an IPython kernel.\n"
     ]
    }
   ],
   "source": [
    "for node, k in model.most_similar('turkey',topn=60):\n",
    "    # Show only ingredient\n",
    "    if any(char.isdigit() for char in node) == False:\n",
    "        print(node)"
   ]
  },
  {
   "cell_type": "code",
   "execution_count": 5,
   "metadata": {},
   "outputs": [
    {
     "name": "stdout",
     "output_type": "stream",
     "text": [
      "envelope reducedsodium taco mix\n",
      "strawberry syrup\n",
      "quarts buttermilk\n",
      "chopped\n",
      "cooking oil\n",
      "flaxseed milk\n",
      "garlic herb seasoning\n",
      "conversation heart candies necco\n",
      "avocado lengthwise pieces\n",
      "fluid ounce kirschwasser\n",
      "kirschwasser optional\n",
      "chocolate milk balls\n",
      "proof grain alcohol everclear™\n",
      "lamb loin thick\n",
      "tomatoes onion\n"
     ]
    },
    {
     "name": "stderr",
     "output_type": "stream",
     "text": [
      "C:\\ProgramData\\Anaconda3\\lib\\site-packages\\ipykernel_launcher.py:1: DeprecationWarning: Call to deprecated `most_similar` (Method will be removed in 4.0.0, use self.wv.most_similar() instead).\n",
      "  \"\"\"Entry point for launching an IPython kernel.\n"
     ]
    }
   ],
   "source": [
    "for node, k in model.most_similar('mustard',topn=60):\n",
    "    # Show only ingredient\n",
    "    if any(char.isdigit() for char in node) == False:\n",
    "        print(node)"
   ]
  },
  {
   "cell_type": "code",
   "execution_count": 6,
   "metadata": {},
   "outputs": [
    {
     "name": "stdout",
     "output_type": "stream",
     "text": [
      "lobster mushrooms cubes\n",
      "grain rice mix herbs\n",
      "bottle pimento\n",
      "acai berry pulp frozen\n",
      "zucchini cut strips peeler\n",
      "crisco original nostick cooking spray\n",
      "hickory wood chips\n",
      "twist lemon garnish\n",
      "sugar snap peas\n",
      "capers dry\n",
      "shoulder chops\n",
      "fluid ounce cola\n",
      "skinless boneless strips\n",
      "barbeque sauce stubbs\n",
      "milk lukewarm\n",
      "plain tea pieces\n",
      "souvlaki marinade\n",
      "coconut extract\n"
     ]
    },
    {
     "name": "stderr",
     "output_type": "stream",
     "text": [
      "C:\\ProgramData\\Anaconda3\\lib\\site-packages\\ipykernel_launcher.py:1: DeprecationWarning: Call to deprecated `most_similar` (Method will be removed in 4.0.0, use self.wv.most_similar() instead).\n",
      "  \"\"\"Entry point for launching an IPython kernel.\n"
     ]
    }
   ],
   "source": [
    "for node, k in model.most_similar('quarts water',topn=60):\n",
    "    # Show only ingredient\n",
    "    if any(char.isdigit() for char in node) == False:\n",
    "        print(node)"
   ]
  },
  {
   "cell_type": "code",
   "execution_count": null,
   "metadata": {},
   "outputs": [],
   "source": []
  }
 ],
 "metadata": {
  "kernelspec": {
   "display_name": "Python 3",
   "language": "python",
   "name": "python3"
  },
  "language_info": {
   "codemirror_mode": {
    "name": "ipython",
    "version": 3
   },
   "file_extension": ".py",
   "mimetype": "text/x-python",
   "name": "python",
   "nbconvert_exporter": "python",
   "pygments_lexer": "ipython3",
   "version": "3.6.5"
  }
 },
 "nbformat": 4,
 "nbformat_minor": 2
}
