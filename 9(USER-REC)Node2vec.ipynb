{
 "cells": [
  {
   "cell_type": "markdown",
   "metadata": {},
   "source": [
    "# 9.APPLY NODE2VEC ON User-Recipe Biparite Graph\n",
    "# SAVE THE MODEL AND EMBEDDINGS FOR FINAL RECOMMENDATION"
   ]
  },
  {
   "cell_type": "code",
   "execution_count": 1,
   "metadata": {},
   "outputs": [
    {
     "name": "stdout",
     "output_type": "stream",
     "text": [
      "Requirement already satisfied: node2vec in c:\\programdata\\anaconda3\\lib\\site-packages (0.4.1)\n",
      "Requirement already satisfied: networkx in c:\\programdata\\anaconda3\\lib\\site-packages (from node2vec) (2.1)\n",
      "Requirement already satisfied: tqdm in c:\\programdata\\anaconda3\\lib\\site-packages (from node2vec) (4.40.2)\n",
      "Requirement already satisfied: numpy in c:\\users\\hasit\\appdata\\roaming\\python\\python36\\site-packages (from node2vec) (1.18.5)\n",
      "Requirement already satisfied: gensim in c:\\users\\hasit\\appdata\\roaming\\python\\python36\\site-packages (from node2vec) (3.8.3)\n",
      "Requirement already satisfied: joblib>=0.13.2 in c:\\programdata\\anaconda3\\lib\\site-packages (from node2vec) (1.0.0)\n",
      "Requirement already satisfied: decorator>=4.1.0 in c:\\programdata\\anaconda3\\lib\\site-packages (from networkx->node2vec) (4.3.0)\n",
      "Requirement already satisfied: Cython==0.29.14 in c:\\users\\hasit\\appdata\\roaming\\python\\python36\\site-packages (from gensim->node2vec) (0.29.14)\n",
      "Requirement already satisfied: smart-open>=1.8.1 in c:\\programdata\\anaconda3\\lib\\site-packages (from gensim->node2vec) (4.1.0)\n",
      "Requirement already satisfied: six>=1.5.0 in c:\\users\\hasit\\appdata\\roaming\\python\\python36\\site-packages (from gensim->node2vec) (1.15.0)\n",
      "Requirement already satisfied: scipy>=0.18.1 in c:\\users\\hasit\\appdata\\roaming\\python\\python36\\site-packages (from gensim->node2vec) (1.1.0)\n"
     ]
    },
    {
     "name": "stderr",
     "output_type": "stream",
     "text": [
      "distributed 1.21.8 requires msgpack, which is not installed.\n",
      "cachecontrol 0.12.5 requires msgpack, which is not installed.\n",
      "tensorflow-gpu 2.3.0 has requirement scipy==1.4.1, but you'll have scipy 1.1.0 which is incompatible.\n",
      "You are using pip version 10.0.1, however version 21.0.1 is available.\n",
      "You should consider upgrading via the 'python -m pip install --upgrade pip' command.\n"
     ]
    }
   ],
   "source": [
    "!pip install node2vec"
   ]
  },
  {
   "cell_type": "code",
   "execution_count": 6,
   "metadata": {},
   "outputs": [],
   "source": [
    "import networkx as nx\n",
    "from node2vec import Node2Vec"
   ]
  },
  {
   "cell_type": "code",
   "execution_count": 3,
   "metadata": {},
   "outputs": [],
   "source": [
    "graph=nx.read_edgelist(\"try-recipe-user.txt\")"
   ]
  },
  {
   "cell_type": "code",
   "execution_count": 4,
   "metadata": {},
   "outputs": [
    {
     "data": {
      "application/vnd.jupyter.widget-view+json": {
       "model_id": "4f2dab549fa4493aa014e72b0252ed1f",
       "version_major": 2,
       "version_minor": 0
      },
      "text/plain": [
       "HBox(children=(FloatProgress(value=0.0, description='Computing transition probabilities', max=97667.0, style=P…"
      ]
     },
     "metadata": {},
     "output_type": "display_data"
    },
    {
     "name": "stderr",
     "output_type": "stream",
     "text": [
      "\r",
      "Generating walks (CPU: 1):   0%|                                                                | 0/10 [00:00<?, ?it/s]"
     ]
    },
    {
     "name": "stdout",
     "output_type": "stream",
     "text": [
      "\n"
     ]
    },
    {
     "name": "stderr",
     "output_type": "stream",
     "text": [
      "Generating walks (CPU: 1): 100%|████████████████████████████████████████████████████| 10/10 [1:36:54<00:00, 581.46s/it]\n"
     ]
    }
   ],
   "source": [
    "node2vec = Node2Vec(graph, dimensions=128, walk_length=80, num_walks=10, workers=1)"
   ]
  },
  {
   "cell_type": "code",
   "execution_count": 5,
   "metadata": {},
   "outputs": [],
   "source": [
    "model = node2vec.fit(window=10, min_count=1, batch_words=4)"
   ]
  },
  {
   "cell_type": "code",
   "execution_count": 6,
   "metadata": {},
   "outputs": [],
   "source": [
    "model.wv.save_word2vec_format(\"new_embeddings_recipe_user\")"
   ]
  },
  {
   "cell_type": "code",
   "execution_count": 7,
   "metadata": {},
   "outputs": [],
   "source": [
    "model.save(\"new_model_recipe_user\")"
   ]
  }
 ],
 "metadata": {
  "kernelspec": {
   "display_name": "Python 3",
   "language": "python",
   "name": "python3"
  },
  "language_info": {
   "codemirror_mode": {
    "name": "ipython",
    "version": 3
   },
   "file_extension": ".py",
   "mimetype": "text/x-python",
   "name": "python",
   "nbconvert_exporter": "python",
   "pygments_lexer": "ipython3",
   "version": "3.6.5"
  }
 },
 "nbformat": 4,
 "nbformat_minor": 2
}
